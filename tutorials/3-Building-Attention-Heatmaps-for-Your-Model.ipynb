{
 "cells": [
  {
   "cell_type": "markdown",
   "metadata": {},
   "source": [
    "## Building attention heatmap from a pretrained model\n",
    "\n",
    "This is a very verbose implementation. In many cases, using the `Processor` will be more appropriate when processing large batches of slides.  "
   ]
  },
  {
   "cell_type": "markdown",
   "metadata": {},
   "source": [
    "#### Run inference on a slide from scratch. \n",
    "\n",
    "- Download a WSI\n",
    "- Create OpenSlideWSI\n",
    "- Run segmentation\n",
    "- Run patch coordinate extraction\n",
    "- Run patch features extraction\n",
    "- Run slide feature extraction and attention score\n",
    "\n",
    "Note: This tutorial uses Threads, which is not public yet. Stay tuned!\n"
   ]
  },
  {
   "cell_type": "code",
   "execution_count": null,
   "metadata": {},
   "outputs": [],
   "source": [
    "import os\n",
    "import torch \n",
    "import h5py \n",
    "from PIL import Image\n",
    "import geopandas as gpd\n",
    "from IPython.display import display\n",
    "from huggingface_hub import snapshot_download\n",
    "\n",
    "try:\n",
    "    from scipy.stats import rankdata\n",
    "except:\n",
    "    print('Please install scipy: `pip install scipy`')\n",
    "\n",
    "from trident.wsi_objects.WSI import OpenSlideWSI\n",
    "from trident.segmentation_models.load import segmentation_model_factory\n",
    "from trident.patch_encoder_models.load import encoder_factory as patch_encoder_factory\n",
    "from trident.slide_encoder_models.load import encoder_factory as slide_encoder_factory\n",
    "\n",
    "import numpy as np\n",
    "import matplotlib.pyplot as plt\n",
    "from PIL import Image\n",
    "import cv2\n",
    "\n",
    "# a. Download a WSI\n",
    "OUTPUT_DIR = \"tutorial-3/\"\n",
    "DEVICE = f\"cuda:0\"\n",
    "WSI_FNAME = '394140.svs'\n",
    "os.makedirs(OUTPUT_DIR, exist_ok=True)\n",
    "local_wsi_dir = snapshot_download(\n",
    "    repo_id=\"MahmoodLab/unit-testing\",\n",
    "    repo_type='dataset',\n",
    "    local_dir=os.path.join(OUTPUT_DIR, 'wsis'),\n",
    "    allow_patterns=[WSI_FNAME]\n",
    ")\n",
    "\n",
    "# b. Create OpenSlideWSI\n",
    "wsi_path = os.path.join(local_wsi_dir, WSI_FNAME)\n",
    "slide = OpenSlideWSI(slide_path=wsi_path, lazy_init=False)\n",
    "\n",
    "# c. Run segmentation \n",
    "segmentation_model = segmentation_model_factory(\"hest\", device=DEVICE)\n",
    "geojson_contours = slide.segment_tissue(segmentation_model=segmentation_model, target_mag=10, job_dir=OUTPUT_DIR)\n",
    "\n",
    "# d. Run patch coordinate extraction\n",
    "coords_path = slide.extract_tissue_coords(\n",
    "    target_mag=20,\n",
    "    patch_size=512,\n",
    "    save_coords=OUTPUT_DIR,\n",
    "    overlap=448, \n",
    ")\n",
    "\n",
    "# e. Run patch feature extraction\n",
    "patch_encoder = patch_encoder_factory(\"conch_v15\")\n",
    "patch_encoder.eval()\n",
    "patch_encoder.to(DEVICE)\n",
    "patch_features_path = slide.extract_patch_features(\n",
    "    patch_encoder=patch_encoder,\n",
    "    coords_path=coords_path,\n",
    "    save_features=os.path.join(OUTPUT_DIR, f\"features_conch_v15\"),\n",
    "    device=DEVICE\n",
    ")\n",
    "\n",
    "# f. Run slide feature extraction\n",
    "slide_encoder = slide_encoder_factory(\"threads\").to(DEVICE).eval()\n",
    "with h5py.File(patch_features_path, 'r') as f:\n",
    "    coords = f['coords'][:]\n",
    "    patch_features = f['features'][:]\n",
    "    coords_attrs = dict(f['coords'].attrs)\n",
    "\n",
    "batch = {\n",
    "    'features': torch.from_numpy(patch_features).float().to(DEVICE).unsqueeze(0) ,\n",
    "    'coords': torch.from_numpy(coords).to(DEVICE).unsqueeze(0),\n",
    "    'attributes': coords_attrs\n",
    "}\n",
    "\n",
    "# Generate slide-level features\n",
    "with torch.autocast(device_type='cuda', enabled=(slide_encoder.precision != torch.float32)):\n",
    "    features, attention = slide_encoder(batch, return_raw_attention=True)\n",
    "    features = features.cpu().numpy().squeeze()\n",
    "    attention = attention.cpu().numpy().squeeze()\n"
   ]
  },
  {
   "cell_type": "markdown",
   "metadata": {},
   "source": [
    "#### Visualize the heatmap using attention scores extracted"
   ]
  },
  {
   "cell_type": "code",
   "execution_count": null,
   "metadata": {},
   "outputs": [],
   "source": [
    "from trident.Visualization import visualize_heatmap\n",
    "\n",
    "heatmap = visualize_heatmap(\n",
    "    wsi=slide,\n",
    "    scores=attention[:, 0],  # get attention for the first attention head.\n",
    "    coords=coords,\n",
    "    vis_level=2,\n",
    "    coords_attrs=coords_attrs,\n",
    "    normalize=True,\n",
    ")\n",
    "\n",
    "display(heatmap)\n",
    "heatmap.save(os.path.join(OUTPUT_DIR, f'{slide.name}_heatmap.jpg'))\n"
   ]
  }
 ],
 "metadata": {
  "kernelspec": {
   "display_name": "trident",
   "language": "python",
   "name": "trident"
  },
  "language_info": {
   "codemirror_mode": {
    "name": "ipython",
    "version": 3
   },
   "file_extension": ".py",
   "mimetype": "text/x-python",
   "name": "python",
   "nbconvert_exporter": "python",
   "pygments_lexer": "ipython3",
   "version": "3.10.16"
  }
 },
 "nbformat": 4,
 "nbformat_minor": 4
}
